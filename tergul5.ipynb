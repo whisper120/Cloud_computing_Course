{
  "nbformat": 4,
  "nbformat_minor": 0,
  "metadata": {
    "colab": {
      "provenance": [],
      "authorship_tag": "ABX9TyOtzX6PRwAngBq0Ao8lFdEl",
      "include_colab_link": true
    },
    "kernelspec": {
      "name": "python3",
      "display_name": "Python 3"
    },
    "language_info": {
      "name": "python"
    }
  },
  "cells": [
    {
      "cell_type": "markdown",
      "metadata": {
        "id": "view-in-github",
        "colab_type": "text"
      },
      "source": [
        "<a href=\"https://colab.research.google.com/github/whisper120/Cloud_computing_Course/blob/main/tergul5.ipynb\" target=\"_parent\"><img src=\"https://colab.research.google.com/assets/colab-badge.svg\" alt=\"Open In Colab\"/></a>"
      ]
    },
    {
      "cell_type": "code",
      "source": [
        "import requests\n",
        "from bs4 import BeautifulSoup\n",
        "import re\n",
        "from nltk.stem import PorterStemmer\n",
        "import matplotlib.pyplot as plt\n",
        "\n"
      ],
      "metadata": {
        "id": "9q_4I5FZHnAr"
      },
      "execution_count": 47,
      "outputs": []
    },
    {
      "cell_type": "code",
      "execution_count": 12,
      "metadata": {
        "id": "MD1hZ4W3HQ_F"
      },
      "outputs": [],
      "source": [
        "def fetch_page(url):\n",
        "  response = requests.get(url)\n",
        "  if response.status_code == 200:\n",
        "    soup = BeautifulSoup(response.text, 'html.parser')\n",
        "    return soup\n",
        "  else:\n",
        "    return None"
      ]
    },
    {
      "cell_type": "code",
      "source": [
        "def index_words(soup):\n",
        "    index = {}\n",
        "    words = re.findall(r'\\w+', soup.get_text())\n",
        "    for word in words:\n",
        "        word = word.lower()\n",
        "        if word in index:\n",
        "            index[word] += 1\n",
        "        else:\n",
        "           index[word] = 1\n",
        "    return index\n"
      ],
      "metadata": {
        "id": "AnBLJ_54IAMs"
      },
      "execution_count": 13,
      "outputs": []
    },
    {
      "cell_type": "code",
      "source": [
        "def remove_stop_words(index):\n",
        "  stop_words = {'a', 'an', 'the', 'and', 'or','in', 'on', 'at', 'to' , 'all' , 'see' , 'of' ,'n','also'}\n",
        "  for stop_word in stop_words:\n",
        "    if stop_word in index:\n",
        "      del index[stop_word]\n",
        "  return index\n"
      ],
      "metadata": {
        "id": "BAAJQ8dUIsOl"
      },
      "execution_count": 53,
      "outputs": []
    },
    {
      "cell_type": "code",
      "source": [
        "def apply_stemming(index):\n",
        "  stemmer = PorterStemmer()\n",
        "  stemmed_index = {}\n",
        "  for word, count in index.items():\n",
        "    stemmed_word = stemmer.stem(word)\n",
        "    if stemmed_word in stemmed_index:\n",
        "      stemmed_index[stemmed_word] += count\n",
        "    else:\n",
        "      stemmed_index[stemmed_word] = count\n",
        "  return stemmed_index\n"
      ],
      "metadata": {
        "id": "kI3wb8wiJBM8"
      },
      "execution_count": 15,
      "outputs": []
    },
    {
      "cell_type": "code",
      "source": [
        "def search_engine(url, query):\n",
        "  soup = fetch_page(url)\n",
        "  if soup is None:\n",
        "    return None\n",
        "  index = index_words(soup)\n",
        "  index = remove_stop_words(index)\n",
        "  index = apply_stemming(index)\n",
        "  #results = search(query, index)\n",
        "  #return results\n",
        "  return index\n"
      ],
      "metadata": {
        "id": "sMvM2mtpJLTT"
      },
      "execution_count": 38,
      "outputs": []
    },
    {
      "cell_type": "code",
      "source": [
        "def search(query, index):\n",
        "    stemmer = PorterStemmer()\n",
        "    query_words = re.findall(r'\\w+', query.lower())\n",
        "    results = {}\n",
        "    for word in query_words:\n",
        "        stemmed_word = stemmer.stem(word)\n",
        "        if stemmed_word in index:\n",
        "            results[stemmed_word] = index[stemmed_word]\n",
        "    return results"
      ],
      "metadata": {
        "id": "2-HXUZ_XJxrm"
      },
      "execution_count": 29,
      "outputs": []
    },
    {
      "cell_type": "code",
      "source": [
        "url = 'https://cad.onshape.com/help/Content/Glossary/glossary.htm?tocpath=_____19'\n",
        "query = ''\n",
        "\n",
        "top_keys = []\n",
        "top_values = []\n",
        "\n",
        "results = search_engine(url, query)\n",
        "for i in range(10):\n",
        "  max_key = max(results, key=results.get)\n",
        "  top_keys.append(max_key)\n",
        "  max_value = results[max_key]\n",
        "  top_values.append(max_value)\n",
        "  print(max_key + \" \" + str(max_value))\n",
        "  del results[max_key]\n",
        "\n",
        "top_keys.reverse()\n",
        "top_values.reverse()\n",
        "\n",
        "# Create a bar graph\n",
        "plt.figure(figsize=(10, 5))\n",
        "plt.bar(top_keys, top_values, color='skyblue')\n",
        "\n",
        "# Add title and labels\n",
        "plt.title('Top 10 Results')\n",
        "plt.xlabel('Keys')\n",
        "plt.ylabel('Values')\n",
        "\n",
        "# Rotate x-axis labels for better readability\n",
        "plt.xticks(rotation=45, ha='right')\n",
        "\n",
        "# Display the graph\n",
        "plt.tight_layout()\n",
        "plt.show()\n"
      ],
      "metadata": {
        "colab": {
          "base_uri": "https://localhost:8080/",
          "height": 681
        },
        "id": "XS1K_zpaJPND",
        "outputId": "d9a3074b-4cee-4372-c9dd-15e4706ea527"
      },
      "execution_count": 54,
      "outputs": [
        {
          "output_type": "stream",
          "name": "stdout",
          "text": [
            "context 676\n",
            "type 656\n",
            "keyboard 631\n",
            "shortcut 631\n",
            "plan 626\n",
            "part 524\n",
            "studio 369\n",
            "assembl 279\n",
            "draw 226\n",
            "sketch 220\n"
          ]
        },
        {
          "output_type": "display_data",
          "data": {
            "text/plain": [
              "<Figure size 1000x500 with 1 Axes>"
            ],
            "image/png": "[encoded data removed]"
          },
          "metadata": {}
        }
      ]
    }
  ]
}
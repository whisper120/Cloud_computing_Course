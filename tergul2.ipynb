{
  "nbformat": 4,
  "nbformat_minor": 0,
  "metadata": {
    "colab": {
      "provenance": [],
      "authorship_tag": "ABX9TyNyI2j9SIut8D6hdNHG1NBL",
      "include_colab_link": true
    },
    "kernelspec": {
      "name": "python3",
      "display_name": "Python 3"
    },
    "language_info": {
      "name": "python"
    }
  },
  "cells": [
    {
      "cell_type": "markdown",
      "metadata": {
        "id": "view-in-github",
        "colab_type": "text"
      },
      "source": [
        "<a href=\"https://colab.research.google.com/github/whisper120/Cloud_computing_Course/blob/main/tergul2.ipynb\" target=\"_parent\"><img src=\"https://colab.research.google.com/assets/colab-badge.svg\" alt=\"Open In Colab\"/></a>"
      ]
    },
    {
      "cell_type": "code",
      "execution_count": null,
      "metadata": {
        "colab": {
          "base_uri": "https://localhost:8080/"
        },
        "id": "oxVMpjPQ8HCu",
        "outputId": "e84370cc-3660-45e5-9b8d-da2419444f13"
      },
      "outputs": [
        {
          "output_type": "stream",
          "name": "stdout",
          "text": [
            "Mounted at /content/drive\n"
          ]
        }
      ],
      "source": [
        "import json\n",
        "from google.colab import drive\n",
        "drive.mount('/content/drive')\n"
      ]
    },
    {
      "cell_type": "code",
      "source": [
        "x = {\n",
        "  \"name\": \"John\",\n",
        "  \"age\": 30,\n",
        "  \"married\": True,\n",
        "  \"divorced\": False,\n",
        "  \"children\": (\"Ann\",\"Billy\"),\n",
        "  \"pets\": None,\n",
        "  \"cars\": [\n",
        "    {\"model\": \"BMW 230\", \"mpg\": 27.5},\n",
        "    {\"model\": \"Ford Edge\", \"mpg\": 24.1}\n",
        "  ]\n",
        "}\n",
        "\n",
        "file_path = '/content/drive/My Drive/tempfolder/s1.json'\n",
        "\n",
        "with open(file_path, \"w\") as fid:\n",
        "     json.dump(x, fid)"
      ],
      "metadata": {
        "id": "8EYurPhf_xfy"
      },
      "execution_count": null,
      "outputs": []
    },
    {
      "cell_type": "code",
      "source": [],
      "metadata": {
        "id": "Sw-BPe7XCwgY"
      },
      "execution_count": null,
      "outputs": []
    },
    {
      "cell_type": "code",
      "source": [],
      "metadata": {
        "id": "7srQlTu7C3Sk"
      },
      "execution_count": null,
      "outputs": []
    },
    {
      "cell_type": "code",
      "source": [
        "file_path = '/content/drive/My Drive/tempfolder/s1.json'\n",
        "\n",
        "with open(file_path, \"r\") as fid:\n",
        "     z = json.load(fid)\n",
        "\n",
        "print(z)\n",
        "for key in z:\n",
        "    print(key+\":\\t\", z[key])\n",
        "\n"
      ],
      "metadata": {
        "colab": {
          "base_uri": "https://localhost:8080/"
        },
        "id": "juv9KPHa_ybe",
        "outputId": "04b3d813-67c3-4d37-93a8-dd59434310d3"
      },
      "execution_count": null,
      "outputs": [
        {
          "output_type": "stream",
          "name": "stdout",
          "text": [
            "{'name': 'John', 'age': 30, 'married': True, 'divorced': False, 'children': ['Ann', 'Billy'], 'pets': None, 'cars': [{'model': 'BMW 230', 'mpg': 27.5}, {'model': 'Ford Edge', 'mpg': 24.1}]}\n",
            "name:\t John\n",
            "age:\t 30\n",
            "married:\t True\n",
            "divorced:\t False\n",
            "children:\t ['Ann', 'Billy']\n",
            "pets:\t None\n",
            "cars:\t [{'model': 'BMW 230', 'mpg': 27.5}, {'model': 'Ford Edge', 'mpg': 24.1}]\n"
          ]
        }
      ]
    },
    {
      "cell_type": "code",
      "source": [
        "import json\n",
        "from IPython.display import display\n",
        "import ipywidgets as widgets\n",
        "\n",
        "file_path = '/content/drive/My Drive/tempfolder/students.json'\n",
        "\n",
        "with open(file_path, \"r\") as fid:\n",
        "     students = json.load(fid)\n",
        "\n",
        "student_names = [f\"{student['first_name']} {student['last_name']}\" for student in students]\n",
        "\n",
        "# Create a dropdown widget\n",
        "dropdown = widgets.Dropdown(\n",
        "    options=student_names,\n",
        "    description='Student:',\n",
        "    disabled=False,\n",
        ")\n",
        "\n",
        "course_input = widgets.Text(\n",
        "    description='Course:',\n",
        "    placeholder='Add a new course'\n",
        ")\n",
        "link_input = widgets.Text(\n",
        "    description='Link:',\n",
        "    placeholder='Add an interesting link'\n",
        ")\n",
        "save_button = widgets.Button(\n",
        "    description='Save',\n",
        "    button_style='success'\n",
        ")\n",
        "\n",
        "def display_student_info(change):\n",
        "    selected_student = change['new']\n",
        "    for student in students:\n",
        "        full_name = f\"{student['first_name']} {student['last_name']}\"\n",
        "        if full_name == selected_student:\n",
        "            print(f\"Name: {full_name}\")\n",
        "            print(f\"Email: {student['email']}\")\n",
        "            if 'courses' in student:\n",
        "              print(f\"Courses: {student['courses']}\")\n",
        "            if 'interesting_link' in student:\n",
        "              print(f\"intresting_link: {student['interesting_link']}\")\n",
        "\n",
        "            # Display course and link inputs and save button\n",
        "            display(course_input)\n",
        "            display(link_input)\n",
        "            display(save_button)\n",
        "            # Attach the save function to the button click event\n",
        "            save_button.on_click(lambda x: save_student_info(student))\n",
        "            break\n",
        "\n",
        "def save_student_info(student):\n",
        "    if 'courses' not in student:\n",
        "        student['courses'] = []\n",
        "    if 'interesting_link' not in student:\n",
        "        student['interesting_link'] = \"\"\n",
        "    if course_input.value:\n",
        "        student['courses'].append(course_input.value)\n",
        "        course_input.value = \"\"\n",
        "    if link_input.value:\n",
        "        student['interesting_link'] = link_input.value\n",
        "        link_input.value = \"\"\n",
        "\n",
        "    # Save the updated students list to the JSON file\n",
        "    with open(file_path, \"w\") as fid:\n",
        "        json.dump(students, fid, indent=4)\n",
        "    print(\"Information saved successfully.\")\n",
        "\n",
        "\n",
        "dropdown.observe(display_student_info, names='value')\n",
        "\n",
        "display(dropdown)\n"
      ],
      "metadata": {
        "id": "VJU1O_8_BEfP",
        "collapsed": true
      },
      "execution_count": null,
      "outputs": []
    }
  ]
}
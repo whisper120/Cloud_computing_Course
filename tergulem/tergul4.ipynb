{
  "nbformat": 4,
  "nbformat_minor": 0,
  "metadata": {
    "colab": {
      "provenance": [],
      "authorship_tag": "ABX9TyN7Ixt2CzD35tBkFU/IqGOO",
      "include_colab_link": true
    },
    "kernelspec": {
      "name": "python3",
      "display_name": "Python 3"
    },
    "language_info": {
      "name": "python"
    }
  },
  "cells": [
    {
      "cell_type": "markdown",
      "metadata": {
        "id": "view-in-github",
        "colab_type": "text"
      },
      "source": [
        "<a href=\"https://colab.research.google.com/github/whisper120/Cloud_computing_Course/blob/main/tergul4.ipynb\" target=\"_parent\"><img src=\"https://colab.research.google.com/assets/colab-badge.svg\" alt=\"Open In Colab\"/></a>"
      ]
    },
    {
      "cell_type": "code",
      "execution_count": 13,
      "metadata": {
        "colab": {
          "base_uri": "https://localhost:8080/"
        },
        "id": "onXsf3jZAsXs",
        "outputId": "1f04052c-7feb-48ce-9b5c-8b95c541affa"
      },
      "outputs": [
        {
          "output_type": "stream",
          "name": "stdout",
          "text": [
            "Enter student's first name: anu\n",
            "Enter student's last name: mata\n",
            "Enter student's Braude email: s@braude.com\n",
            "Enter student's courses (comma separated): ff,gg,hh\n",
            "Enter student's favorite program: gg\n",
            "{'name': '-O0dBkMumCbdfxJfkwb2'}\n"
          ]
        }
      ],
      "source": [
        "from firebase import firebase\n",
        "FBconn = firebase.FirebaseApplication('https://cloud-computing-course-b445b-default-rtdb.europe-west1.firebasedatabase.app/',None)\n",
        "def get_student_info():\n",
        "    name = input(\"Enter student's first name: \")\n",
        "    last_name = input(\"Enter student's last name: \")\n",
        "    braude_email = input(\"Enter student's Braude email: \")\n",
        "    courses_list = input(\"Enter student's courses (comma separated): \").split(',')\n",
        "    favorite_program = input(\"Enter student's favorite program: \")\n",
        "\n",
        "    student = {\n",
        "        \"name\": name,\n",
        "        \"last_name\": last_name,\n",
        "        \"braude_email\": braude_email,\n",
        "        \"courses_list\": [course.strip() for course in courses_list],\n",
        "        \"favorite_program\": favorite_program\n",
        "    }\n",
        "    return student\n",
        "\n",
        "student = get_student_info()\n",
        "\n",
        "result = FBconn.post('/Students/',student)\n",
        "print(result)\n"
      ]
    },
    {
      "cell_type": "code",
      "source": [
        "from firebase import firebase\n",
        "\n",
        "firebase = firebase.FirebaseApplication('https://cloud-computing-course-b445b-default-rtdb.europe-west1.firebasedatabase.app/', None)\n",
        "def fetch_and_print_students():\n",
        "    students = FBconn.get('/Students/', None)\n",
        "    if not students:\n",
        "        print(\"No students found in the database.\")\n",
        "        return\n",
        "\n",
        "    for student_data in students.values():\n",
        "        print(f\"First Name: {student_data['name']}\")\n",
        "        print(f\"Last Name: {student_data['last_name']}\")\n",
        "        print(f\"Braude Email: {student_data['braude_email']}\")\n",
        "        print(f\"Courses List: {', '.join(student_data['courses_list'])}\")\n",
        "        print(f\"Favorite Program: {student_data['favorite_program']}\")\n",
        "        print(\"----------\")\n",
        "\n",
        "fetch_and_print_students()\n",
        "\n"
      ],
      "metadata": {
        "colab": {
          "base_uri": "https://localhost:8080/"
        },
        "collapsed": true,
        "id": "GhQS458bI1om",
        "outputId": "740263e5-6f92-43a8-e7b6-438e56ad10b4"
      },
      "execution_count": 19,
      "outputs": [
        {
          "output_type": "stream",
          "name": "stdout",
          "text": [
            "First Name: whisper\n",
            "Last Name: 120\n",
            "Braude Email: whisper@braude.com\n",
            "Courses List: cc, vv, gg\n",
            "Favorite Program: cc\n",
            "----------\n",
            "First Name: anu\n",
            "Last Name: mata\n",
            "Braude Email: s@braude.com\n",
            "Courses List: ff, gg, hh\n",
            "Favorite Program: gg\n",
            "----------\n"
          ]
        }
      ]
    }
  ]
}
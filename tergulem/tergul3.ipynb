{
  "nbformat": 4,
  "nbformat_minor": 0,
  "metadata": {
    "colab": {
      "provenance": [],
      "authorship_tag": "ABX9TyNyI2j9SIut8D6hdNHG1NBL",
      "include_colab_link": true
    },
    "kernelspec": {
      "name": "python3",
      "display_name": "Python 3"
    },
    "language_info": {
      "name": "python"
    },
    "widgets": {
      "application/vnd.jupyter.widget-state+json": {
        "af11fc25904548588f7eda3f36d758fa": {
          "model_module": "@jupyter-widgets/controls",
          "model_name": "DropdownModel",
          "model_module_version": "1.5.0",
          "state": {
            "_dom_classes": [],
            "_model_module": "@jupyter-widgets/controls",
            "_model_module_version": "1.5.0",
            "_model_name": "DropdownModel",
            "_options_labels": [
              "Hassan Said Ahmad",
              "Anat Rutman"
            ],
            "_view_count": null,
            "_view_module": "@jupyter-widgets/controls",
            "_view_module_version": "1.5.0",
            "_view_name": "DropdownView",
            "description": "Student:",
            "description_tooltip": null,
            "disabled": false,
            "index": 1,
            "layout": "IPY_MODEL_09edfa60cdc948ec8da3526a5aae1eb4",
            "style": "IPY_MODEL_99ba431cd90542c79f0eccd780f271ac"
          }
        },
        "09edfa60cdc948ec8da3526a5aae1eb4": {
          "model_module": "@jupyter-widgets/base",
          "model_name": "LayoutModel",
          "model_module_version": "1.2.0",
          "state": {
            "_model_module": "@jupyter-widgets/base",
            "_model_module_version": "1.2.0",
            "_model_name": "LayoutModel",
            "_view_count": null,
            "_view_module": "@jupyter-widgets/base",
            "_view_module_version": "1.2.0",
            "_view_name": "LayoutView",
            "align_content": null,
            "align_items": null,
            "align_self": null,
            "border": null,
            "bottom": null,
            "display": null,
            "flex": null,
            "flex_flow": null,
            "grid_area": null,
            "grid_auto_columns": null,
            "grid_auto_flow": null,
            "grid_auto_rows": null,
            "grid_column": null,
            "grid_gap": null,
            "grid_row": null,
            "grid_template_areas": null,
            "grid_template_columns": null,
            "grid_template_rows": null,
            "height": null,
            "justify_content": null,
            "justify_items": null,
            "left": null,
            "margin": null,
            "max_height": null,
            "max_width": null,
            "min_height": null,
            "min_width": null,
            "object_fit": null,
            "object_position": null,
            "order": null,
            "overflow": null,
            "overflow_x": null,
            "overflow_y": null,
            "padding": null,
            "right": null,
            "top": null,
            "visibility": null,
            "width": null
          }
        },
        "99ba431cd90542c79f0eccd780f271ac": {
          "model_module": "@jupyter-widgets/controls",
          "model_name": "DescriptionStyleModel",
          "model_module_version": "1.5.0",
          "state": {
            "_model_module": "@jupyter-widgets/controls",
            "_model_module_version": "1.5.0",
            "_model_name": "DescriptionStyleModel",
            "_view_count": null,
            "_view_module": "@jupyter-widgets/base",
            "_view_module_version": "1.2.0",
            "_view_name": "StyleView",
            "description_width": ""
          }
        },
        "19eb11c2769b4ff9a5b2d49fbf071d9f": {
          "model_module": "@jupyter-widgets/controls",
          "model_name": "TextModel",
          "model_module_version": "1.5.0",
          "state": {
            "_dom_classes": [],
            "_model_module": "@jupyter-widgets/controls",
            "_model_module_version": "1.5.0",
            "_model_name": "TextModel",
            "_view_count": null,
            "_view_module": "@jupyter-widgets/controls",
            "_view_module_version": "1.5.0",
            "_view_name": "TextView",
            "continuous_update": true,
            "description": "Course:",
            "description_tooltip": null,
            "disabled": false,
            "layout": "IPY_MODEL_6f63ce19d53c4c5bbdfa337638e6974b",
            "placeholder": "Add a new course",
            "style": "IPY_MODEL_4882a6f877fe453c97e7d355389af842",
            "value": ""
          }
        },
        "6f63ce19d53c4c5bbdfa337638e6974b": {
          "model_module": "@jupyter-widgets/base",
          "model_name": "LayoutModel",
          "model_module_version": "1.2.0",
          "state": {
            "_model_module": "@jupyter-widgets/base",
            "_model_module_version": "1.2.0",
            "_model_name": "LayoutModel",
            "_view_count": null,
            "_view_module": "@jupyter-widgets/base",
            "_view_module_version": "1.2.0",
            "_view_name": "LayoutView",
            "align_content": null,
            "align_items": null,
            "align_self": null,
            "border": null,
            "bottom": null,
            "display": null,
            "flex": null,
            "flex_flow": null,
            "grid_area": null,
            "grid_auto_columns": null,
            "grid_auto_flow": null,
            "grid_auto_rows": null,
            "grid_column": null,
            "grid_gap": null,
            "grid_row": null,
            "grid_template_areas": null,
            "grid_template_columns": null,
            "grid_template_rows": null,
            "height": null,
            "justify_content": null,
            "justify_items": null,
            "left": null,
            "margin": null,
            "max_height": null,
            "max_width": null,
            "min_height": null,
            "min_width": null,
            "object_fit": null,
            "object_position": null,
            "order": null,
            "overflow": null,
            "overflow_x": null,
            "overflow_y": null,
            "padding": null,
            "right": null,
            "top": null,
            "visibility": null,
            "width": null
          }
        },
        "4882a6f877fe453c97e7d355389af842": {
          "model_module": "@jupyter-widgets/controls",
          "model_name": "DescriptionStyleModel",
          "model_module_version": "1.5.0",
          "state": {
            "_model_module": "@jupyter-widgets/controls",
            "_model_module_version": "1.5.0",
            "_model_name": "DescriptionStyleModel",
            "_view_count": null,
            "_view_module": "@jupyter-widgets/base",
            "_view_module_version": "1.2.0",
            "_view_name": "StyleView",
            "description_width": ""
          }
        },
        "aa4f3ead41e848899bc1e9bacf867427": {
          "model_module": "@jupyter-widgets/controls",
          "model_name": "TextModel",
          "model_module_version": "1.5.0",
          "state": {
            "_dom_classes": [],
            "_model_module": "@jupyter-widgets/controls",
            "_model_module_version": "1.5.0",
            "_model_name": "TextModel",
            "_view_count": null,
            "_view_module": "@jupyter-widgets/controls",
            "_view_module_version": "1.5.0",
            "_view_name": "TextView",
            "continuous_update": true,
            "description": "Link:",
            "description_tooltip": null,
            "disabled": false,
            "layout": "IPY_MODEL_b65d3e36e64043059c6158681591503c",
            "placeholder": "Add an interesting link",
            "style": "IPY_MODEL_ab95c1c6d06d44c7b71d6d5674f43d25",
            "value": ""
          }
        },
        "b65d3e36e64043059c6158681591503c": {
          "model_module": "@jupyter-widgets/base",
          "model_name": "LayoutModel",
          "model_module_version": "1.2.0",
          "state": {
            "_model_module": "@jupyter-widgets/base",
            "_model_module_version": "1.2.0",
            "_model_name": "LayoutModel",
            "_view_count": null,
            "_view_module": "@jupyter-widgets/base",
            "_view_module_version": "1.2.0",
            "_view_name": "LayoutView",
            "align_content": null,
            "align_items": null,
            "align_self": null,
            "border": null,
            "bottom": null,
            "display": null,
            "flex": null,
            "flex_flow": null,
            "grid_area": null,
            "grid_auto_columns": null,
            "grid_auto_flow": null,
            "grid_auto_rows": null,
            "grid_column": null,
            "grid_gap": null,
            "grid_row": null,
            "grid_template_areas": null,
            "grid_template_columns": null,
            "grid_template_rows": null,
            "height": null,
            "justify_content": null,
            "justify_items": null,
            "left": null,
            "margin": null,
            "max_height": null,
            "max_width": null,
            "min_height": null,
            "min_width": null,
            "object_fit": null,
            "object_position": null,
            "order": null,
            "overflow": null,
            "overflow_x": null,
            "overflow_y": null,
            "padding": null,
            "right": null,
            "top": null,
            "visibility": null,
            "width": null
          }
        },
        "ab95c1c6d06d44c7b71d6d5674f43d25": {
          "model_module": "@jupyter-widgets/controls",
          "model_name": "DescriptionStyleModel",
          "model_module_version": "1.5.0",
          "state": {
            "_model_module": "@jupyter-widgets/controls",
            "_model_module_version": "1.5.0",
            "_model_name": "DescriptionStyleModel",
            "_view_count": null,
            "_view_module": "@jupyter-widgets/base",
            "_view_module_version": "1.2.0",
            "_view_name": "StyleView",
            "description_width": ""
          }
        },
        "6eafa711b92b4aedba4545a5ca79d1fa": {
          "model_module": "@jupyter-widgets/controls",
          "model_name": "ButtonModel",
          "model_module_version": "1.5.0",
          "state": {
            "_dom_classes": [],
            "_model_module": "@jupyter-widgets/controls",
            "_model_module_version": "1.5.0",
            "_model_name": "ButtonModel",
            "_view_count": null,
            "_view_module": "@jupyter-widgets/controls",
            "_view_module_version": "1.5.0",
            "_view_name": "ButtonView",
            "button_style": "success",
            "description": "Save",
            "disabled": false,
            "icon": "",
            "layout": "IPY_MODEL_eeea490e2dad4eb9ba28358f6a21d18d",
            "style": "IPY_MODEL_da0d6ff008ce4849a660cf7097f83997",
            "tooltip": ""
          }
        },
        "eeea490e2dad4eb9ba28358f6a21d18d": {
          "model_module": "@jupyter-widgets/base",
          "model_name": "LayoutModel",
          "model_module_version": "1.2.0",
          "state": {
            "_model_module": "@jupyter-widgets/base",
            "_model_module_version": "1.2.0",
            "_model_name": "LayoutModel",
            "_view_count": null,
            "_view_module": "@jupyter-widgets/base",
            "_view_module_version": "1.2.0",
            "_view_name": "LayoutView",
            "align_content": null,
            "align_items": null,
            "align_self": null,
            "border": null,
            "bottom": null,
            "display": null,
            "flex": null,
            "flex_flow": null,
            "grid_area": null,
            "grid_auto_columns": null,
            "grid_auto_flow": null,
            "grid_auto_rows": null,
            "grid_column": null,
            "grid_gap": null,
            "grid_row": null,
            "grid_template_areas": null,
            "grid_template_columns": null,
            "grid_template_rows": null,
            "height": null,
            "justify_content": null,
            "justify_items": null,
            "left": null,
            "margin": null,
            "max_height": null,
            "max_width": null,
            "min_height": null,
            "min_width": null,
            "object_fit": null,
            "object_position": null,
            "order": null,
            "overflow": null,
            "overflow_x": null,
            "overflow_y": null,
            "padding": null,
            "right": null,
            "top": null,
            "visibility": null,
            "width": null
          }
        },
        "da0d6ff008ce4849a660cf7097f83997": {
          "model_module": "@jupyter-widgets/controls",
          "model_name": "ButtonStyleModel",
          "model_module_version": "1.5.0",
          "state": {
            "_model_module": "@jupyter-widgets/controls",
            "_model_module_version": "1.5.0",
            "_model_name": "ButtonStyleModel",
            "_view_count": null,
            "_view_module": "@jupyter-widgets/base",
            "_view_module_version": "1.2.0",
            "_view_name": "StyleView",
            "button_color": null,
            "font_weight": ""
          }
        }
      }
    }
  },
  "cells": [
    {
      "cell_type": "markdown",
      "metadata": {
        "id": "view-in-github",
        "colab_type": "text"
      },
      "source": [
        "<a href=\"https://colab.research.google.com/github/whisper120/Cloud_computing_Course/blob/main/tergul3.ipynb\" target=\"_parent\"><img src=\"https://colab.research.google.com/assets/colab-badge.svg\" alt=\"Open In Colab\"/></a>"
      ]
    },
    {
      "cell_type": "code",
      "execution_count": 1,
      "metadata": {
        "colab": {
          "base_uri": "https://localhost:8080/"
        },
        "id": "oxVMpjPQ8HCu",
        "outputId": "15ee7843-7211-42cd-8477-2d5c81df7935"
      },
      "outputs": [
        {
          "output_type": "stream",
          "name": "stdout",
          "text": [
            "Mounted at /content/drive\n"
          ]
        }
      ],
      "source": [
        "import json\n",
        "from google.colab import drive\n",
        "drive.mount('/content/drive')\n"
      ]
    },
    {
      "cell_type": "code",
      "source": [
        "x = {\n",
        "  \"name\": \"John\",\n",
        "  \"age\": 30,\n",
        "  \"married\": True,\n",
        "  \"divorced\": False,\n",
        "  \"children\": (\"Ann\",\"Billy\"),\n",
        "  \"pets\": None,\n",
        "  \"cars\": [\n",
        "    {\"model\": \"BMW 230\", \"mpg\": 27.5},\n",
        "    {\"model\": \"Ford Edge\", \"mpg\": 24.1}\n",
        "  ]\n",
        "}\n",
        "\n",
        "file_path = '/content/drive/My Drive/tempfolder/s1.json'\n",
        "\n",
        "with open(file_path, \"w\") as fid:\n",
        "     json.dump(x, fid)"
      ],
      "metadata": {
        "id": "8EYurPhf_xfy"
      },
      "execution_count": 2,
      "outputs": []
    },
    {
      "cell_type": "code",
      "source": [],
      "metadata": {
        "id": "Sw-BPe7XCwgY"
      },
      "execution_count": 2,
      "outputs": []
    },
    {
      "cell_type": "code",
      "source": [],
      "metadata": {
        "id": "7srQlTu7C3Sk"
      },
      "execution_count": 2,
      "outputs": []
    },
    {
      "cell_type": "code",
      "source": [
        "file_path = '/content/drive/My Drive/tempfolder/s1.json'\n",
        "\n",
        "with open(file_path, \"r\") as fid:\n",
        "     z = json.load(fid)\n",
        "\n",
        "print(z)\n",
        "for key in z:\n",
        "    print(key+\":\\t\", z[key])\n",
        "\n"
      ],
      "metadata": {
        "colab": {
          "base_uri": "https://localhost:8080/"
        },
        "id": "juv9KPHa_ybe",
        "outputId": "023f9026-964d-4877-cde4-418841d39e45"
      },
      "execution_count": 3,
      "outputs": [
        {
          "output_type": "stream",
          "name": "stdout",
          "text": [
            "{'name': 'John', 'age': 30, 'married': True, 'divorced': False, 'children': ['Ann', 'Billy'], 'pets': None, 'cars': [{'model': 'BMW 230', 'mpg': 27.5}, {'model': 'Ford Edge', 'mpg': 24.1}]}\n",
            "name:\t John\n",
            "age:\t 30\n",
            "married:\t True\n",
            "divorced:\t False\n",
            "children:\t ['Ann', 'Billy']\n",
            "pets:\t None\n",
            "cars:\t [{'model': 'BMW 230', 'mpg': 27.5}, {'model': 'Ford Edge', 'mpg': 24.1}]\n"
          ]
        }
      ]
    },
    {
      "cell_type": "code",
      "source": [
        "import json\n",
        "from IPython.display import display\n",
        "import ipywidgets as widgets\n",
        "\n",
        "file_path = '/content/drive/My Drive/tempfolder/students.json'\n",
        "\n",
        "with open(file_path, \"r\") as fid:\n",
        "     students = json.load(fid)\n",
        "\n",
        "student_names = [f\"{student['first_name']} {student['last_name']}\" for student in students]\n",
        "\n",
        "# Create a dropdown widget\n",
        "dropdown = widgets.Dropdown(\n",
        "    options=student_names,\n",
        "    description='Student:',\n",
        "    disabled=False,\n",
        ")\n",
        "\n",
        "course_input = widgets.Text(\n",
        "    description='Course:',\n",
        "    placeholder='Add a new course'\n",
        ")\n",
        "link_input = widgets.Text(\n",
        "    description='Link:',\n",
        "    placeholder='Add an interesting link'\n",
        ")\n",
        "save_button = widgets.Button(\n",
        "    description='Save',\n",
        "    button_style='success'\n",
        ")\n",
        "\n",
        "def display_student_info(change):\n",
        "    selected_student = change['new']\n",
        "    for student in students:\n",
        "        full_name = f\"{student['first_name']} {student['last_name']}\"\n",
        "        if full_name == selected_student:\n",
        "            print(f\"Name: {full_name}\")\n",
        "            print(f\"Email: {student['email']}\")\n",
        "            if 'courses' in student:\n",
        "              print(f\"Courses: {student['courses']}\")\n",
        "            if 'interesting_link' in student:\n",
        "              print(f\"intresting_link: {student['interesting_link']}\")\n",
        "\n",
        "            # Display course and link inputs and save button\n",
        "            display(course_input)\n",
        "            display(link_input)\n",
        "            display(save_button)\n",
        "            # Attach the save function to the button click event\n",
        "            save_button.on_click(lambda x: save_student_info(student))\n",
        "            break\n",
        "\n",
        "def save_student_info(student):\n",
        "    if 'courses' not in student:\n",
        "        student['courses'] = []\n",
        "    if 'interesting_link' not in student:\n",
        "        student['interesting_link'] = \"\"\n",
        "    if course_input.value:\n",
        "        student['courses'].append(course_input.value)\n",
        "        course_input.value = \"\"\n",
        "    if link_input.value:\n",
        "        student['interesting_link'] = link_input.value\n",
        "        link_input.value = \"\"\n",
        "\n",
        "    # Save the updated students list to the JSON file\n",
        "    with open(file_path, \"w\") as fid:\n",
        "        json.dump(students, fid, indent=4)\n",
        "    print(\"Information saved successfully.\")\n",
        "\n",
        "\n",
        "dropdown.observe(display_student_info, names='value')\n",
        "\n",
        "display(dropdown)\n"
      ],
      "metadata": {
        "id": "VJU1O_8_BEfP",
        "collapsed": true,
        "colab": {
          "base_uri": "https://localhost:8080/",
          "height": 505,
          "referenced_widgets": [
            "af11fc25904548588f7eda3f36d758fa",
            "09edfa60cdc948ec8da3526a5aae1eb4",
            "99ba431cd90542c79f0eccd780f271ac",
            "19eb11c2769b4ff9a5b2d49fbf071d9f",
            "6f63ce19d53c4c5bbdfa337638e6974b",
            "4882a6f877fe453c97e7d355389af842",
            "aa4f3ead41e848899bc1e9bacf867427",
            "b65d3e36e64043059c6158681591503c",
            "ab95c1c6d06d44c7b71d6d5674f43d25",
            "6eafa711b92b4aedba4545a5ca79d1fa",
            "eeea490e2dad4eb9ba28358f6a21d18d",
            "da0d6ff008ce4849a660cf7097f83997"
          ]
        },
        "outputId": "58cc8eab-937b-41e8-c0c5-946e439cdc27"
      },
      "execution_count": 4,
      "outputs": [
        {
          "output_type": "display_data",
          "data": {
            "text/plain": [
              "Dropdown(description='Student:', options=('Hassan Said Ahmad', 'Anat Rutman'), value='Hassan Said Ahmad')"
            ],
            "application/vnd.jupyter.widget-view+json": {
              "version_major": 2,
              "version_minor": 0,
              "model_id": "af11fc25904548588f7eda3f36d758fa"
            }
          },
          "metadata": {}
        },
        {
          "output_type": "stream",
          "name": "stdout",
          "text": [
            "Name: Anat Rutman\n",
            "Email: Anat.Rutman@e.braude.ac.il\n",
            "Courses: ['Cloud Computing']\n",
            "intresting_link: www.google.com\n"
          ]
        },
        {
          "output_type": "display_data",
          "data": {
            "text/plain": [
              "Text(value='', description='Course:', placeholder='Add a new course')"
            ],
            "application/vnd.jupyter.widget-view+json": {
              "version_major": 2,
              "version_minor": 0,
              "model_id": "19eb11c2769b4ff9a5b2d49fbf071d9f"
            }
          },
          "metadata": {}
        },
        {
          "output_type": "display_data",
          "data": {
            "text/plain": [
              "Text(value='', description='Link:', placeholder='Add an interesting link')"
            ],
            "application/vnd.jupyter.widget-view+json": {
              "version_major": 2,
              "version_minor": 0,
              "model_id": "aa4f3ead41e848899bc1e9bacf867427"
            }
          },
          "metadata": {}
        },
        {
          "output_type": "display_data",
          "data": {
            "text/plain": [
              "Button(button_style='success', description='Save', style=ButtonStyle())"
            ],
            "application/vnd.jupyter.widget-view+json": {
              "version_major": 2,
              "version_minor": 0,
              "model_id": "6eafa711b92b4aedba4545a5ca79d1fa"
            }
          },
          "metadata": {}
        },
        {
          "output_type": "stream",
          "name": "stdout",
          "text": [
            "Name: Hassan Said Ahmad\n",
            "Email: hassan.said.ahmad@e.braude.ac.il\n"
          ]
        },
        {
          "output_type": "display_data",
          "data": {
            "text/plain": [
              "Text(value='', description='Course:', placeholder='Add a new course')"
            ],
            "application/vnd.jupyter.widget-view+json": {
              "version_major": 2,
              "version_minor": 0,
              "model_id": "19eb11c2769b4ff9a5b2d49fbf071d9f"
            }
          },
          "metadata": {}
        },
        {
          "output_type": "display_data",
          "data": {
            "text/plain": [
              "Text(value='', description='Link:', placeholder='Add an interesting link')"
            ],
            "application/vnd.jupyter.widget-view+json": {
              "version_major": 2,
              "version_minor": 0,
              "model_id": "aa4f3ead41e848899bc1e9bacf867427"
            }
          },
          "metadata": {}
        },
        {
          "output_type": "display_data",
          "data": {
            "text/plain": [
              "Button(button_style='success', description='Save', style=ButtonStyle())"
            ],
            "application/vnd.jupyter.widget-view+json": {
              "version_major": 2,
              "version_minor": 0,
              "model_id": "6eafa711b92b4aedba4545a5ca79d1fa"
            }
          },
          "metadata": {}
        },
        {
          "output_type": "stream",
          "name": "stdout",
          "text": [
            "Name: Anat Rutman\n",
            "Email: Anat.Rutman@e.braude.ac.il\n",
            "Courses: ['Cloud Computing']\n",
            "intresting_link: www.google.com\n"
          ]
        },
        {
          "output_type": "display_data",
          "data": {
            "text/plain": [
              "Text(value='', description='Course:', placeholder='Add a new course')"
            ],
            "application/vnd.jupyter.widget-view+json": {
              "version_major": 2,
              "version_minor": 0,
              "model_id": "19eb11c2769b4ff9a5b2d49fbf071d9f"
            }
          },
          "metadata": {}
        },
        {
          "output_type": "display_data",
          "data": {
            "text/plain": [
              "Text(value='', description='Link:', placeholder='Add an interesting link')"
            ],
            "application/vnd.jupyter.widget-view+json": {
              "version_major": 2,
              "version_minor": 0,
              "model_id": "aa4f3ead41e848899bc1e9bacf867427"
            }
          },
          "metadata": {}
        },
        {
          "output_type": "display_data",
          "data": {
            "text/plain": [
              "Button(button_style='success', description='Save', style=ButtonStyle())"
            ],
            "application/vnd.jupyter.widget-view+json": {
              "version_major": 2,
              "version_minor": 0,
              "model_id": "6eafa711b92b4aedba4545a5ca79d1fa"
            }
          },
          "metadata": {}
        }
      ]
    }
  ]
}